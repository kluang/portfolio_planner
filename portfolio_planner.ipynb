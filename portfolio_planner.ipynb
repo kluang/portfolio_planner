{
 "cells": [
  {
   "cell_type": "markdown",
   "metadata": {},
   "source": [
    "# Retirement Planner\n",
    "\n",
    "---\n",
    "\n",
    "## Environment Setup"
   ]
  },
  {
   "cell_type": "code",
   "execution_count": 2,
   "metadata": {},
   "outputs": [],
   "source": [
    "import numpy as np\n",
    "import pandas as pd\n",
    "import os\n",
    "import matplotlib.pyplot as plt\n",
    "import alpaca_trade_api as tradeapi\n",
    "from pathlib import Path\n",
    "\n",
    "%matplotlib inline"
   ]
  },
  {
   "cell_type": "code",
   "execution_count": 3,
   "metadata": {},
   "outputs": [],
   "source": [
    "# Set the random seed for resutls reproducibility (for testing purposes only)\n",
    "np.random.seed(42)"
   ]
  },
  {
   "cell_type": "markdown",
   "metadata": {},
   "source": [
    "---\n",
    "\n",
    "## Portfolio Planner\n",
    "\n",
    "Use the Alpaca API to grab historical data for a `60/40` portfolio using `SPY` to represent the stock portion and `AGG` to represent the bonds."
   ]
  },
  {
   "cell_type": "code",
   "execution_count": 4,
   "metadata": {},
   "outputs": [],
   "source": [
    "# Load .env enviroment variables\n",
    "from dotenv import load_dotenv\n",
    "env_path = Path('/Users/admin') / '.env'\n",
    "load_dotenv(env_path)\n",
    "\n",
    "# Set Alpaca API key and secret\n",
    "alpaca_api_key = os.getenv(\"ALPACA_API_KEY\")\n",
    "alpaca_secret_key = os.getenv(\"ALPACA_SECRET_KEY\")\n",
    "\n",
    "# Create the Alpaca API object\n",
    "api = tradeapi.REST(\n",
    "    alpaca_api_key,\n",
    "    alpaca_secret_key,\n",
    "    api_version=\"v2\")"
   ]
  },
  {
   "cell_type": "markdown",
   "metadata": {},
   "source": [
    "# Data Collection\n",
    "\n",
    "Use the Alpaca api to fetch closing prices for the `SPY` and `AGG` tickers. Save the results as a pandas DataFrame"
   ]
  },
  {
   "cell_type": "code",
   "execution_count": 5,
   "metadata": {},
   "outputs": [],
   "source": [
    "# Subset your tickers, then pull returns data:\n",
    "# Set the ticker\n",
    "ticker = [\"SPY\", \"AGG\"]\n",
    "\n",
    "# Set timeframe to '1D'\n",
    "timeframe = \"1D\"\n",
    "\n",
    "# Set start and end datetimes of 1 year, between now and 365 days ago.\n",
    "start_date = pd.Timestamp('2019-01-01', tz='America/New_York').isoformat()\n",
    "end_date = pd.Timestamp('2019-12-31', tz='America/New_York').isoformat()\n",
    "\n",
    "# Get 1 year's worth of historical data for SPY and AGG\n",
    "df = api.get_barset(\n",
    "    ticker,\n",
    "    timeframe,\n",
    "    limit=None,\n",
    "    start=start_date,\n",
    "    end=end_date,\n",
    "    after=None,\n",
    "    until=None,\n",
    ").df\n",
    "\n",
    "# Drop unnecessary columns\n",
    "df = df.drop(\n",
    "    columns=['open', 'high', 'low', 'volume'],\n",
    "    level=1\n",
    ")"
   ]
  },
  {
   "cell_type": "code",
   "execution_count": 6,
   "metadata": {},
   "outputs": [
    {
     "data": {
      "text/html": [
       "<div>\n",
       "<style scoped>\n",
       "    .dataframe tbody tr th:only-of-type {\n",
       "        vertical-align: middle;\n",
       "    }\n",
       "\n",
       "    .dataframe tbody tr th {\n",
       "        vertical-align: top;\n",
       "    }\n",
       "\n",
       "    .dataframe thead tr th {\n",
       "        text-align: left;\n",
       "    }\n",
       "\n",
       "    .dataframe thead tr:last-of-type th {\n",
       "        text-align: right;\n",
       "    }\n",
       "</style>\n",
       "<table border=\"1\" class=\"dataframe\">\n",
       "  <thead>\n",
       "    <tr>\n",
       "      <th></th>\n",
       "      <th>AGG</th>\n",
       "      <th>SPY</th>\n",
       "    </tr>\n",
       "    <tr>\n",
       "      <th></th>\n",
       "      <th>close</th>\n",
       "      <th>close</th>\n",
       "    </tr>\n",
       "    <tr>\n",
       "      <th>time</th>\n",
       "      <th></th>\n",
       "      <th></th>\n",
       "    </tr>\n",
       "  </thead>\n",
       "  <tbody>\n",
       "    <tr>\n",
       "      <th>2019-01-02 00:00:00-05:00</th>\n",
       "      <td>106.585</td>\n",
       "      <td>249.89</td>\n",
       "    </tr>\n",
       "    <tr>\n",
       "      <th>2019-01-03 00:00:00-05:00</th>\n",
       "      <td>107.020</td>\n",
       "      <td>244.46</td>\n",
       "    </tr>\n",
       "    <tr>\n",
       "      <th>2019-01-04 00:00:00-05:00</th>\n",
       "      <td>106.695</td>\n",
       "      <td>252.41</td>\n",
       "    </tr>\n",
       "    <tr>\n",
       "      <th>2019-01-07 00:00:00-05:00</th>\n",
       "      <td>106.470</td>\n",
       "      <td>254.40</td>\n",
       "    </tr>\n",
       "    <tr>\n",
       "      <th>2019-01-08 00:00:00-05:00</th>\n",
       "      <td>106.420</td>\n",
       "      <td>256.65</td>\n",
       "    </tr>\n",
       "  </tbody>\n",
       "</table>\n",
       "</div>"
      ],
      "text/plain": [
       "                               AGG     SPY\n",
       "                             close   close\n",
       "time                                      \n",
       "2019-01-02 00:00:00-05:00  106.585  249.89\n",
       "2019-01-03 00:00:00-05:00  107.020  244.46\n",
       "2019-01-04 00:00:00-05:00  106.695  252.41\n",
       "2019-01-07 00:00:00-05:00  106.470  254.40\n",
       "2019-01-08 00:00:00-05:00  106.420  256.65"
      ]
     },
     "execution_count": 6,
     "metadata": {},
     "output_type": "execute_result"
    }
   ],
   "source": [
    "# Display sample data\n",
    "df.head()"
   ]
  },
  {
   "cell_type": "markdown",
   "metadata": {},
   "source": [
    "---\n",
    "\n",
    "## Monte Carlo Simulation\n",
    "\n",
    "Run Monte Carlo Simulations for the portfolio to model portfolio performance at different retirement ages. \n",
    "\n",
    "1. Calculate the daily returns for the SPY and AGG closing prices.\n",
    "\n",
    "2. Calculate volatility for both the SPY and AGG closing prices.\n",
    "\n",
    "3. Find the last day's closing price for both stocks and save those as variables\n",
    "\n",
    "4. Run a Monte Carlo Simulation of at least `100` iterations and generate at least `30` years of closing prices\n",
    "\n",
    "There are `252` trading days per year, so the number of records to generate for each Monte Carlo run will be `252 days * 30 years`."
   ]
  },
  {
   "cell_type": "code",
   "execution_count": 7,
   "metadata": {},
   "outputs": [
    {
     "data": {
      "text/html": [
       "<div>\n",
       "<style scoped>\n",
       "    .dataframe tbody tr th:only-of-type {\n",
       "        vertical-align: middle;\n",
       "    }\n",
       "\n",
       "    .dataframe tbody tr th {\n",
       "        vertical-align: top;\n",
       "    }\n",
       "\n",
       "    .dataframe thead tr th {\n",
       "        text-align: left;\n",
       "    }\n",
       "\n",
       "    .dataframe thead tr:last-of-type th {\n",
       "        text-align: right;\n",
       "    }\n",
       "</style>\n",
       "<table border=\"1\" class=\"dataframe\">\n",
       "  <thead>\n",
       "    <tr>\n",
       "      <th></th>\n",
       "      <th>AGG</th>\n",
       "      <th>SPY</th>\n",
       "    </tr>\n",
       "    <tr>\n",
       "      <th></th>\n",
       "      <th>close</th>\n",
       "      <th>close</th>\n",
       "    </tr>\n",
       "    <tr>\n",
       "      <th>time</th>\n",
       "      <th></th>\n",
       "      <th></th>\n",
       "    </tr>\n",
       "  </thead>\n",
       "  <tbody>\n",
       "    <tr>\n",
       "      <th>2019-01-02 00:00:00-05:00</th>\n",
       "      <td>NaN</td>\n",
       "      <td>NaN</td>\n",
       "    </tr>\n",
       "    <tr>\n",
       "      <th>2019-01-03 00:00:00-05:00</th>\n",
       "      <td>0.004081</td>\n",
       "      <td>-0.021730</td>\n",
       "    </tr>\n",
       "    <tr>\n",
       "      <th>2019-01-04 00:00:00-05:00</th>\n",
       "      <td>-0.003037</td>\n",
       "      <td>0.032521</td>\n",
       "    </tr>\n",
       "    <tr>\n",
       "      <th>2019-01-07 00:00:00-05:00</th>\n",
       "      <td>-0.002109</td>\n",
       "      <td>0.007884</td>\n",
       "    </tr>\n",
       "    <tr>\n",
       "      <th>2019-01-08 00:00:00-05:00</th>\n",
       "      <td>-0.000470</td>\n",
       "      <td>0.008844</td>\n",
       "    </tr>\n",
       "  </tbody>\n",
       "</table>\n",
       "</div>"
      ],
      "text/plain": [
       "                                AGG       SPY\n",
       "                              close     close\n",
       "time                                         \n",
       "2019-01-02 00:00:00-05:00       NaN       NaN\n",
       "2019-01-03 00:00:00-05:00  0.004081 -0.021730\n",
       "2019-01-04 00:00:00-05:00 -0.003037  0.032521\n",
       "2019-01-07 00:00:00-05:00 -0.002109  0.007884\n",
       "2019-01-08 00:00:00-05:00 -0.000470  0.008844"
      ]
     },
     "execution_count": 7,
     "metadata": {},
     "output_type": "execute_result"
    }
   ],
   "source": [
    "# Calculate the daily roi for the stocks\n",
    "daily_returns = df.pct_change()\n",
    "\n",
    "# Display sample data\n",
    "daily_returns.head()"
   ]
  },
  {
   "cell_type": "code",
   "execution_count": 8,
   "metadata": {},
   "outputs": [],
   "source": [
    "# Compute daily volatility\n",
    "daily_volatility = daily_returns.std()\n",
    "spy_volatility = daily_volatility[\"SPY\"][\"close\"]\n",
    "agg_volatility = daily_volatility[\"AGG\"][\"close\"]"
   ]
  },
  {
   "cell_type": "code",
   "execution_count": 9,
   "metadata": {},
   "outputs": [],
   "source": [
    "# Save the last day's closing price\n",
    "spy_last_price = df[\"SPY\"][\"close\"][-1]\n",
    "agg_last_price = df[\"AGG\"][\"close\"][-1]"
   ]
  },
  {
   "cell_type": "code",
   "execution_count": 10,
   "metadata": {},
   "outputs": [],
   "source": [
    "# Setup the Monte Carlo Parameters\n",
    "number_simulations = 500\n",
    "number_records = 252 * 30\n",
    "monte_carlo = pd.DataFrame()"
   ]
  },
  {
   "cell_type": "code",
   "execution_count": null,
   "metadata": {
    "scrolled": true
   },
   "outputs": [
    {
     "name": "stdout",
     "output_type": "stream",
     "text": [
      "Running Simulation 0...\n",
      "Running Simulation 1...\n",
      "Running Simulation 2...\n",
      "Running Simulation 3...\n",
      "Running Simulation 4...\n",
      "Running Simulation 5...\n",
      "Running Simulation 6...\n",
      "Running Simulation 7...\n",
      "Running Simulation 8...\n",
      "Running Simulation 9...\n",
      "Running Simulation 10...\n",
      "Running Simulation 11...\n",
      "Running Simulation 12...\n",
      "Running Simulation 13...\n",
      "Running Simulation 14...\n",
      "Running Simulation 15...\n",
      "Running Simulation 16...\n",
      "Running Simulation 17...\n",
      "Running Simulation 18...\n",
      "Running Simulation 19...\n",
      "Running Simulation 20...\n",
      "Running Simulation 21...\n",
      "Running Simulation 22...\n",
      "Running Simulation 23...\n",
      "Running Simulation 24...\n",
      "Running Simulation 25...\n",
      "Running Simulation 26...\n",
      "Running Simulation 27...\n",
      "Running Simulation 28...\n",
      "Running Simulation 29...\n",
      "Running Simulation 30...\n",
      "Running Simulation 31...\n",
      "Running Simulation 32...\n",
      "Running Simulation 33...\n",
      "Running Simulation 34...\n",
      "Running Simulation 35...\n",
      "Running Simulation 36...\n",
      "Running Simulation 37...\n",
      "Running Simulation 38...\n",
      "Running Simulation 39...\n",
      "Running Simulation 40...\n",
      "Running Simulation 41...\n",
      "Running Simulation 42...\n",
      "Running Simulation 43...\n",
      "Running Simulation 44...\n",
      "Running Simulation 45...\n",
      "Running Simulation 46...\n",
      "Running Simulation 47...\n",
      "Running Simulation 48...\n",
      "Running Simulation 49...\n",
      "Running Simulation 50...\n",
      "Running Simulation 51...\n",
      "Running Simulation 52...\n",
      "Running Simulation 53...\n",
      "Running Simulation 54...\n",
      "Running Simulation 55...\n",
      "Running Simulation 56...\n",
      "Running Simulation 57...\n",
      "Running Simulation 58...\n",
      "Running Simulation 59...\n",
      "Running Simulation 60...\n",
      "Running Simulation 61...\n",
      "Running Simulation 62...\n",
      "Running Simulation 63...\n",
      "Running Simulation 64...\n",
      "Running Simulation 65...\n",
      "Running Simulation 66...\n",
      "Running Simulation 67...\n",
      "Running Simulation 68...\n",
      "Running Simulation 69...\n",
      "Running Simulation 70...\n",
      "Running Simulation 71...\n",
      "Running Simulation 72...\n",
      "Running Simulation 73...\n",
      "Running Simulation 74...\n",
      "Running Simulation 75...\n",
      "Running Simulation 76...\n",
      "Running Simulation 77...\n",
      "Running Simulation 78...\n",
      "Running Simulation 79...\n",
      "Running Simulation 80...\n",
      "Running Simulation 81...\n",
      "Running Simulation 82...\n",
      "Running Simulation 83...\n",
      "Running Simulation 84...\n",
      "Running Simulation 85...\n",
      "Running Simulation 86...\n",
      "Running Simulation 87...\n",
      "Running Simulation 88...\n",
      "Running Simulation 89...\n",
      "Running Simulation 90...\n",
      "Running Simulation 91...\n",
      "Running Simulation 92...\n",
      "Running Simulation 93...\n",
      "Running Simulation 94...\n",
      "Running Simulation 95...\n",
      "Running Simulation 96...\n",
      "Running Simulation 97...\n",
      "Running Simulation 98...\n",
      "Running Simulation 99...\n",
      "Running Simulation 100...\n",
      "Running Simulation 101...\n",
      "Running Simulation 102...\n",
      "Running Simulation 103...\n",
      "Running Simulation 104...\n",
      "Running Simulation 105...\n",
      "Running Simulation 106...\n",
      "Running Simulation 107...\n",
      "Running Simulation 108...\n",
      "Running Simulation 109...\n",
      "Running Simulation 110...\n",
      "Running Simulation 111...\n",
      "Running Simulation 112...\n",
      "Running Simulation 113...\n",
      "Running Simulation 114...\n",
      "Running Simulation 115...\n",
      "Running Simulation 116...\n",
      "Running Simulation 117...\n",
      "Running Simulation 118...\n",
      "Running Simulation 119...\n",
      "Running Simulation 120...\n",
      "Running Simulation 121...\n",
      "Running Simulation 122...\n",
      "Running Simulation 123...\n",
      "Running Simulation 124...\n",
      "Running Simulation 125...\n",
      "Running Simulation 126...\n",
      "Running Simulation 127...\n",
      "Running Simulation 128...\n",
      "Running Simulation 129...\n",
      "Running Simulation 130...\n",
      "Running Simulation 131...\n",
      "Running Simulation 132...\n",
      "Running Simulation 133...\n",
      "Running Simulation 134...\n",
      "Running Simulation 135...\n",
      "Running Simulation 136...\n",
      "Running Simulation 137...\n",
      "Running Simulation 138...\n",
      "Running Simulation 139...\n",
      "Running Simulation 140...\n",
      "Running Simulation 141...\n",
      "Running Simulation 142...\n",
      "Running Simulation 143...\n",
      "Running Simulation 144...\n",
      "Running Simulation 145...\n",
      "Running Simulation 146...\n",
      "Running Simulation 147...\n",
      "Running Simulation 148...\n",
      "Running Simulation 149...\n",
      "Running Simulation 150...\n",
      "Running Simulation 151...\n",
      "Running Simulation 152...\n",
      "Running Simulation 153...\n",
      "Running Simulation 154...\n",
      "Running Simulation 155...\n",
      "Running Simulation 156...\n",
      "Running Simulation 157...\n",
      "Running Simulation 158...\n",
      "Running Simulation 159...\n",
      "Running Simulation 160...\n",
      "Running Simulation 161...\n",
      "Running Simulation 162...\n",
      "Running Simulation 163...\n",
      "Running Simulation 164...\n",
      "Running Simulation 165...\n",
      "Running Simulation 166...\n",
      "Running Simulation 167...\n",
      "Running Simulation 168...\n",
      "Running Simulation 169...\n",
      "Running Simulation 170...\n",
      "Running Simulation 171...\n",
      "Running Simulation 172...\n",
      "Running Simulation 173...\n",
      "Running Simulation 174...\n",
      "Running Simulation 175...\n",
      "Running Simulation 176...\n",
      "Running Simulation 177...\n",
      "Running Simulation 178...\n",
      "Running Simulation 179...\n",
      "Running Simulation 180...\n",
      "Running Simulation 181...\n",
      "Running Simulation 182...\n",
      "Running Simulation 183...\n"
     ]
    }
   ],
   "source": [
    "# Run the Monte Carlo Simulation\n",
    "for x in range(number_simulations):\n",
    "    \n",
    "    print(f\"Running Simulation {x}...\")\n",
    "    \n",
    "    # Create the initial simulated prices array seeded with the last closing price\n",
    "    spy_prices = [spy_last_price]\n",
    "    agg_prices = [agg_last_price]\n",
    "    \n",
    "    # Simulate the returns for 20 years\n",
    "    for _ in range(number_records):\n",
    "        spy_prices.append(\n",
    "            spy_prices[-1] * (1 + np.random.normal(daily_returns.mean()[\"SPY\"][\"close\"], spy_volatility)))\n",
    "        agg_prices.append(\n",
    "            agg_prices[-1] * (1 + np.random.normal(daily_returns.mean()[\"AGG\"][\"close\"], agg_volatility)))\n",
    "\n",
    "    # Create a DataFrame of the simulated prices\n",
    "    portfolio = pd.DataFrame({\n",
    "        \"SPY Simulated Prices\": spy_prices,\n",
    "        \"AGG Simulated Prices\": agg_prices\n",
    "    })\n",
    "\n",
    "    # Calculate the Portfolio Daily Returns\n",
    "    portfolio_returns=portfolio.pct_change()\n",
    "    \n",
    "    # Set the Portfolio Weights (Assume a 60/40 stocks to bonds ratio)\n",
    "    stocks_weight = 0.60\n",
    "    bonds_weight = 0.40\n",
    "    \n",
    "    \n",
    "    # Calculate the weighted portfolio return: \n",
    "    portfolio_returns = stocks_weight * portfolio_returns[\"SPY Simulated Prices\"] + bonds_weight * portfolio_returns[\"AGG Simulated Prices\"]\n",
    "    \n",
    "    # Calculate the normalized, cumulative return series\n",
    "    monte_carlo[x] = (1 + portfolio_returns.fillna(0)).cumprod()"
   ]
  },
  {
   "cell_type": "code",
   "execution_count": null,
   "metadata": {},
   "outputs": [],
   "source": [
    "# Check that the simulation ran successfully\n",
    "monte_carlo.head()"
   ]
  },
  {
   "cell_type": "code",
   "execution_count": null,
   "metadata": {},
   "outputs": [],
   "source": [
    "# Visualize the Simulation\n",
    "monte_carlo.plot(\n",
    "    legend=None,\n",
    "    title=\"Simulated Retirement Portfolio\"\n",
    ")"
   ]
  },
  {
   "cell_type": "code",
   "execution_count": null,
   "metadata": {},
   "outputs": [],
   "source": [
    "# Select the last row for the cumulative returns (cumulative returns at 20 years)\n",
    "ending_returns = monte_carlo.iloc[-1, :]"
   ]
  },
  {
   "cell_type": "code",
   "execution_count": null,
   "metadata": {},
   "outputs": [],
   "source": [
    "# Select the last row for the cumulative returns (cumulative returns at 20 years)\n",
    "ending_returns = monte_carlo.tail(1).T\n",
    "ending_returns.head()"
   ]
  },
  {
   "cell_type": "code",
   "execution_count": null,
   "metadata": {},
   "outputs": [],
   "source": [
    "# Display the 90% confidence interval for the ending returns\n",
    "confidence_interval = ending_returns.quantile(q=[0.05, 0.95], numeric_only=True)\n",
    "confidence_interval"
   ]
  },
  {
   "cell_type": "code",
   "execution_count": null,
   "metadata": {},
   "outputs": [],
   "source": [
    "# Visualize the distribution of the ending returns\n",
    "plt.figure();\n",
    "ending_returns.plot.hist(bins=50)\n",
    "plt.axvline(confidence_interval.iloc[0, 0], color=\"r\")\n",
    "plt.axvline(confidence_interval.iloc[1, 0], color=\"r\")"
   ]
  },
  {
   "cell_type": "markdown",
   "metadata": {},
   "source": [
    "---"
   ]
  },
  {
   "cell_type": "markdown",
   "metadata": {},
   "source": [
    "## Retirement Analysis\n",
    "\n",
    "Use the monte carlo model to answer the following retirement planning questions:\n",
    "\n",
    "1. What are the expected cumulative returns at `30` years for the `10th`, `50th`, and `90th` percentiles?\n",
    "\n",
    "2. Given an initial investment of `$20,000`, what is the expected return in dollars at the `10th`, `50th`, and `90th` percentiles?\n",
    "\n",
    "3. Given the current projected annual income from the Plaid analysis, will a `4%` withdrawal rate meet or exceed that value at the `10th` percentile? Note: This is basically determining if retirement income is equivalent to current income.\n",
    "\n",
    "4. How would a `50%` increase in the initial investment amount affect the `4%` retirement withdrawal? In other words, what happens if the initial investment had been bigger?"
   ]
  },
  {
   "cell_type": "markdown",
   "metadata": {},
   "source": [
    "### What are the expected cumulative returns at 30 years for the 10th, 50th, and 90th percentiles?"
   ]
  },
  {
   "cell_type": "code",
   "execution_count": null,
   "metadata": {},
   "outputs": [],
   "source": [
    "# Compute cumulative returns\n",
    "ending_returns.quantile([.01, .5, .9])"
   ]
  },
  {
   "cell_type": "markdown",
   "metadata": {},
   "source": [
    "### Given an initial investment of `$20,000`, what is the expected portfolio return in dollars at the 10th, 50th, and 90th percentiles?"
   ]
  },
  {
   "cell_type": "code",
   "execution_count": null,
   "metadata": {},
   "outputs": [],
   "source": [
    "# Set initial investment\n",
    "initial_investment = 20000\n",
    "\n",
    "# Compute expected portfolio return\n",
    "initial_investment * ending_returns.quantile([.01, .5, .9])"
   ]
  },
  {
   "cell_type": "markdown",
   "metadata": {},
   "source": [
    "### Given the current projected annual income from the Plaid analysis, will a 4% withdraw rate from the retirement portfolio meet or exceed that value at the 10th percentile?\n",
    "\n",
    "Note: This is effectively saying that 90% of the expected returns will be greater than the return at the 10th percentile, so this can help measure the uncertainty about having enough funds at retirement"
   ]
  },
  {
   "cell_type": "code",
   "execution_count": null,
   "metadata": {},
   "outputs": [],
   "source": [
    "# Set Plaid's projected income\n",
    "plaid_projected_annual_income =  7389\n",
    "\n",
    "# Calculate the 4% withdrawal for the ending return as retirement income\n",
    "retirement_income = .04 * (initial_investment * ending_returns.quantile(.1)).iloc[0]\n",
    "\n",
    "# Determine if the retirement income meets or exceeds the current projected income\n",
    "if retirement_income >= plaid_projected_annual_income:\n",
    "    print(f\"You will have ${retirement_income:.2f} in retirement income which is sufficient\")\n",
    "else:\n",
    "    print(f\"You will have ${retirement_income:.2f} in retirement income which is not sufficient\")"
   ]
  },
  {
   "cell_type": "markdown",
   "metadata": {},
   "source": [
    "### How would a 50% increase in the initial investment amount affect the 4% retirement withdrawal?"
   ]
  },
  {
   "cell_type": "code",
   "execution_count": null,
   "metadata": {},
   "outputs": [],
   "source": [
    "# Re-calculate the retirement income with a 50% increase in the initial investment amount\n",
    ".04 * (1.5 * initial_investment * ending_returns.quantile(.1)).iloc[0]"
   ]
  },
  {
   "cell_type": "markdown",
   "metadata": {},
   "source": [
    "### Challenge\n",
    "\n",
    "Use the Monte Carlo data and calculate the cumulative returns at the `5%`, `50%`, and `95%` quartiles and plot this data as a line chart to see how the cumulative returns change over the life of the investment.\n",
    "\n",
    "Calculate and plot the cumulative returns for the median and `90%` confidence intervals. This plot shows the expected cumulative returns for any given day between the first day and the last day of investment. "
   ]
  },
  {
   "cell_type": "code",
   "execution_count": null,
   "metadata": {},
   "outputs": [],
   "source": [
    "# Compute projected returns\n",
    "projected_returns = monte_carlo.quantile(q=[0.05, .5, .95], axis=1, numeric_only=True).T\n",
    "\n",
    "# Display sample data\n",
    "projected_returns.head()"
   ]
  },
  {
   "cell_type": "code",
   "execution_count": null,
   "metadata": {},
   "outputs": [],
   "source": [
    "# Plot the cumulative returns over time\n",
    "projected_returns.plot(title=\"Cumulative Returns over Time (in days)\")"
   ]
  },
  {
   "cell_type": "code",
   "execution_count": null,
   "metadata": {},
   "outputs": [],
   "source": [
    "# Compute portfolio performance over time\n",
    "projected_performance = (initial_investment * projected_returns)\n",
    "\n",
    "# Plot projected performance over time\n",
    "projected_performance.plot(title=\"Portfolio Performance over Time\")"
   ]
  },
  {
   "cell_type": "code",
   "execution_count": null,
   "metadata": {},
   "outputs": [],
   "source": []
  }
 ],
 "metadata": {
  "kernelspec": {
   "display_name": "Python 3",
   "language": "python",
   "name": "python3"
  },
  "language_info": {
   "codemirror_mode": {
    "name": "ipython",
    "version": 3
   },
   "file_extension": ".py",
   "mimetype": "text/x-python",
   "name": "python",
   "nbconvert_exporter": "python",
   "pygments_lexer": "ipython3",
   "version": "3.7.7"
  }
 },
 "nbformat": 4,
 "nbformat_minor": 4
}
